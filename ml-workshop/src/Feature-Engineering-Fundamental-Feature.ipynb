{
 "metadata": {
  "name": "",
  "signature": "sha256:2c342d51fd23942b6538358fb8e2ef86dfff52c905e79ac5630e7e6d12a97b53"
 },
 "nbformat": 3,
 "nbformat_minor": 0,
 "worksheets": [
  {
   "cells": [
    {
     "cell_type": "code",
     "collapsed": false,
     "input": [
      "import numpy as np\n",
      "import matplotlib.pyplot as plt\n",
      "import seaborn as sns\n",
      "\n",
      "import matplotlib\n",
      "%matplotlib inline\n",
      "\n",
      "from sklearn import preprocessing"
     ],
     "language": "python",
     "metadata": {},
     "outputs": [],
     "prompt_number": 128
    },
    {
     "cell_type": "markdown",
     "metadata": {},
     "source": [
      "# Numerical Variable Transform"
     ]
    },
    {
     "cell_type": "markdown",
     "metadata": {},
     "source": [
      "## Min-Max Scaling"
     ]
    },
    {
     "cell_type": "code",
     "collapsed": false,
     "input": [
      "a = np.array([[1., -1., 2.],\n",
      "              [2., 0., 0.],\n",
      "              [0., 1, -1.]])\n",
      "\n",
      "min_max_scaler = preprocessing.MinMaxScaler()\n",
      "a_scaled = min_max_scaler.fit_transform(a)\n",
      "a_scaled"
     ],
     "language": "python",
     "metadata": {},
     "outputs": [
      {
       "metadata": {},
       "output_type": "pyout",
       "prompt_number": 129,
       "text": [
        "array([[ 0.5       ,  0.        ,  1.        ],\n",
        "       [ 1.        ,  0.5       ,  0.33333333],\n",
        "       [ 0.        ,  1.        ,  0.        ]])"
       ]
      }
     ],
     "prompt_number": 129
    },
    {
     "cell_type": "code",
     "collapsed": false,
     "input": [
      "min_max_scaler.min_"
     ],
     "language": "python",
     "metadata": {},
     "outputs": [
      {
       "metadata": {},
       "output_type": "pyout",
       "prompt_number": 130,
       "text": [
        "array([ 0.        ,  0.5       ,  0.33333333])"
       ]
      }
     ],
     "prompt_number": 130
    },
    {
     "cell_type": "code",
     "collapsed": false,
     "input": [
      "min_max_scaler.scale_"
     ],
     "language": "python",
     "metadata": {},
     "outputs": [
      {
       "metadata": {},
       "output_type": "pyout",
       "prompt_number": 131,
       "text": [
        "array([ 0.5       ,  0.5       ,  0.33333333])"
       ]
      }
     ],
     "prompt_number": 131
    },
    {
     "cell_type": "code",
     "collapsed": false,
     "input": [
      "a_test = np.array([[-3., -1., 4.]])\n",
      "a_test_scaled = min_max_scaler.transform(a_test)\n",
      "a_test_scaled"
     ],
     "language": "python",
     "metadata": {},
     "outputs": [
      {
       "metadata": {},
       "output_type": "pyout",
       "prompt_number": 132,
       "text": [
        "array([[-1.5       ,  0.        ,  1.66666667]])"
       ]
      }
     ],
     "prompt_number": 132
    },
    {
     "cell_type": "markdown",
     "metadata": {},
     "source": [
      "## z-score"
     ]
    },
    {
     "cell_type": "code",
     "collapsed": false,
     "input": [
      "zscore_scaler = preprocessing.StandardScaler()\n",
      "a_scaled = zscore_scaler.fit_transform(a)\n",
      "a_scaled"
     ],
     "language": "python",
     "metadata": {},
     "outputs": [
      {
       "metadata": {},
       "output_type": "pyout",
       "prompt_number": 133,
       "text": [
        "array([[ 0.        , -1.22474487,  1.33630621],\n",
        "       [ 1.22474487,  0.        , -0.26726124],\n",
        "       [-1.22474487,  1.22474487, -1.06904497]])"
       ]
      }
     ],
     "prompt_number": 133
    },
    {
     "cell_type": "code",
     "collapsed": false,
     "input": [
      "zscore_scaler.mean_"
     ],
     "language": "python",
     "metadata": {},
     "outputs": [
      {
       "metadata": {},
       "output_type": "pyout",
       "prompt_number": 134,
       "text": [
        "array([ 1.        ,  0.        ,  0.33333333])"
       ]
      }
     ],
     "prompt_number": 134
    },
    {
     "cell_type": "code",
     "collapsed": false,
     "input": [
      "zscore_scaler.scale_"
     ],
     "language": "python",
     "metadata": {},
     "outputs": [
      {
       "metadata": {},
       "output_type": "pyout",
       "prompt_number": 135,
       "text": [
        "array([ 0.81649658,  0.81649658,  1.24721913])"
       ]
      }
     ],
     "prompt_number": 135
    },
    {
     "cell_type": "code",
     "collapsed": false,
     "input": [
      "a_test_scaled = zscore_scaler.transform([[-1., 1., 0.]])\n",
      "a_test_scaled"
     ],
     "language": "python",
     "metadata": {},
     "outputs": [
      {
       "metadata": {},
       "output_type": "pyout",
       "prompt_number": 136,
       "text": [
        "array([[-2.44948974,  1.22474487, -0.26726124]])"
       ]
      }
     ],
     "prompt_number": 136
    },
    {
     "cell_type": "markdown",
     "metadata": {},
     "source": [
      "## Normalization"
     ]
    },
    {
     "cell_type": "code",
     "collapsed": false,
     "input": [
      "normalizer = preprocessing.Normalizer().fit(a)\n",
      "\n",
      "a_normalized = normalizer.transform(a)"
     ],
     "language": "python",
     "metadata": {},
     "outputs": [],
     "prompt_number": 137
    },
    {
     "cell_type": "code",
     "collapsed": false,
     "input": [
      "normalizer.transform([[-1., 1., 0.]])"
     ],
     "language": "python",
     "metadata": {},
     "outputs": [
      {
       "metadata": {},
       "output_type": "pyout",
       "prompt_number": 138,
       "text": [
        "array([[-0.70710678,  0.70710678,  0.        ]])"
       ]
      }
     ],
     "prompt_number": 138
    },
    {
     "cell_type": "markdown",
     "metadata": {},
     "source": [
      "## Popular Transforms"
     ]
    },
    {
     "cell_type": "markdown",
     "metadata": {},
     "source": [
      "### Logarithm"
     ]
    },
    {
     "cell_type": "code",
     "collapsed": false,
     "input": [
      "from sklearn.preprocessing import FunctionTransformer\n",
      "\n",
      "a = np.array([[0, 1], [2, 3]])\n",
      "\n",
      "transformer = FunctionTransformer(np.log1p)\n",
      "transformer.transform(a)"
     ],
     "language": "python",
     "metadata": {},
     "outputs": [
      {
       "metadata": {},
       "output_type": "pyout",
       "prompt_number": 139,
       "text": [
        "array([[ 0.        ,  0.69314718],\n",
        "       [ 1.09861229,  1.38629436]])"
       ]
      }
     ],
     "prompt_number": 139
    },
    {
     "cell_type": "code",
     "collapsed": false,
     "input": [
      "transformer = FunctionTransformer(np.sqrt)\n",
      "transformer.transform(a)"
     ],
     "language": "python",
     "metadata": {},
     "outputs": [
      {
       "metadata": {},
       "output_type": "pyout",
       "prompt_number": 140,
       "text": [
        "array([[ 0.        ,  1.        ],\n",
        "       [ 1.41421356,  1.73205081]])"
       ]
      }
     ],
     "prompt_number": 140
    },
    {
     "cell_type": "code",
     "collapsed": false,
     "input": [
      "def cube_root(x):\n",
      "    return np.power(x, 1.0 / 3 )\n",
      "transformer = FunctionTransformer(cube_root)\n",
      "transformer.transform(a)"
     ],
     "language": "python",
     "metadata": {},
     "outputs": [
      {
       "metadata": {},
       "output_type": "pyout",
       "prompt_number": 141,
       "text": [
        "array([[ 0.        ,  1.        ],\n",
        "       [ 1.25992105,  1.44224957]])"
       ]
      }
     ],
     "prompt_number": 141
    },
    {
     "cell_type": "code",
     "collapsed": false,
     "input": [
      "transformer = FunctionTransformer(np.square)\n",
      "transformer.transform(a)"
     ],
     "language": "python",
     "metadata": {},
     "outputs": [
      {
       "metadata": {},
       "output_type": "pyout",
       "prompt_number": 142,
       "text": [
        "array([[0, 1],\n",
        "       [4, 9]])"
       ]
      }
     ],
     "prompt_number": 142
    },
    {
     "cell_type": "code",
     "collapsed": false,
     "input": [
      "def cube(x):\n",
      "    return np.power(x, 3 )\n",
      "transformer = FunctionTransformer(cube)\n",
      "transformer.transform(a)"
     ],
     "language": "python",
     "metadata": {},
     "outputs": [
      {
       "metadata": {},
       "output_type": "pyout",
       "prompt_number": 143,
       "text": [
        "array([[ 0,  1],\n",
        "       [ 8, 27]])"
       ]
      }
     ],
     "prompt_number": 143
    },
    {
     "cell_type": "markdown",
     "metadata": {},
     "source": [
      "## One-Hot Encoder"
     ]
    },
    {
     "cell_type": "code",
     "collapsed": false,
     "input": [
      "# two important parameters of OneHotEncoder\n",
      "#  handle_unknown: 'error', 'ignore'\n",
      "#  n_values: n\n",
      "enc = preprocessing.OneHotEncoder()\n",
      "enc.fit([[0, 0, 3], [1, 1, 0], [0, 2, 1], [1, 0, 2]])"
     ],
     "language": "python",
     "metadata": {},
     "outputs": [
      {
       "metadata": {},
       "output_type": "pyout",
       "prompt_number": 144,
       "text": [
        "OneHotEncoder(categorical_features='all', dtype=<type 'float'>,\n",
        "       handle_unknown='error', n_values='auto', sparse=True)"
       ]
      }
     ],
     "prompt_number": 144
    },
    {
     "cell_type": "code",
     "collapsed": false,
     "input": [
      "enc.transform([[0, 1, 3]]).toarray()"
     ],
     "language": "python",
     "metadata": {},
     "outputs": [
      {
       "metadata": {},
       "output_type": "pyout",
       "prompt_number": 145,
       "text": [
        "array([[ 1.,  0.,  0.,  1.,  0.,  0.,  0.,  0.,  1.]])"
       ]
      }
     ],
     "prompt_number": 145
    },
    {
     "cell_type": "markdown",
     "metadata": {},
     "source": [
      "## Discretization and binning"
     ]
    },
    {
     "cell_type": "code",
     "collapsed": false,
     "input": [
      "import pandas as pd\n",
      "ages = [20, 22, 25, 27, 21, 23, 37, 31, 61, 45, 41, 32]"
     ],
     "language": "python",
     "metadata": {},
     "outputs": [],
     "prompt_number": 146
    },
    {
     "cell_type": "code",
     "collapsed": false,
     "input": [
      "bins = [18, 25, 35, 60, 100]\n",
      "cats = pd.cut(ages, bins)\n",
      "cats"
     ],
     "language": "python",
     "metadata": {},
     "outputs": [
      {
       "metadata": {},
       "output_type": "pyout",
       "prompt_number": 147,
       "text": [
        "[(18, 25], (18, 25], (18, 25], (25, 35], (18, 25], ..., (25, 35], (60, 100], (35, 60], (35, 60], (25, 35]]\n",
        "Length: 12\n",
        "Categories (4, object): [(18, 25] < (25, 35] < (35, 60] < (60, 100]]"
       ]
      }
     ],
     "prompt_number": 147
    },
    {
     "cell_type": "code",
     "collapsed": false,
     "input": [
      "cats.codes"
     ],
     "language": "python",
     "metadata": {},
     "outputs": [
      {
       "metadata": {},
       "output_type": "pyout",
       "prompt_number": 148,
       "text": [
        "array([0, 0, 0, 1, 0, 0, 2, 1, 3, 2, 2, 1], dtype=int8)"
       ]
      }
     ],
     "prompt_number": 148
    },
    {
     "cell_type": "code",
     "collapsed": false,
     "input": [
      "pd.value_counts(cats)"
     ],
     "language": "python",
     "metadata": {},
     "outputs": []
    },
    {
     "cell_type": "code",
     "collapsed": false,
     "input": [
      "pd.cut(ages, [18, 26, 36, 61, 100], right=False)"
     ],
     "language": "python",
     "metadata": {},
     "outputs": []
    },
    {
     "cell_type": "code",
     "collapsed": false,
     "input": [
      "group_names = ['Youth', 'YoungAdult', 'MiddleAged', 'Senior']\n",
      "pd.cut(ages, bins, labels=group_names)"
     ],
     "language": "python",
     "metadata": {},
     "outputs": []
    },
    {
     "cell_type": "code",
     "collapsed": false,
     "input": [
      "data = np.random.rand(20)\n",
      "pd.cut(data, 4, precision=2)"
     ],
     "language": "python",
     "metadata": {},
     "outputs": []
    },
    {
     "cell_type": "code",
     "collapsed": false,
     "input": [
      "data = np.random.randn(1000) # Normally distributed\n",
      "cats = pd.qcut(data, 4) # Cut into quartiles\n",
      "cats"
     ],
     "language": "python",
     "metadata": {},
     "outputs": []
    },
    {
     "cell_type": "code",
     "collapsed": false,
     "input": [
      "pd.value_counts(cats)"
     ],
     "language": "python",
     "metadata": {},
     "outputs": []
    },
    {
     "cell_type": "code",
     "collapsed": false,
     "input": [
      "pd.qcut(data, [0, 0.1, 0.5, 0.9, 1.])"
     ],
     "language": "python",
     "metadata": {},
     "outputs": []
    }
   ],
   "metadata": {}
  }
 ]
}