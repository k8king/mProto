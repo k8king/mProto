{
 "metadata": {
  "name": "",
  "signature": "sha256:a521a9bf79d999850a6bab023265e6e3793ecf4742bb9d9ce47ae286d85bdd01"
 },
 "nbformat": 3,
 "nbformat_minor": 0,
 "worksheets": [
  {
   "cells": [
    {
     "cell_type": "markdown",
     "metadata": {},
     "source": [
      "## to get index of elements which are condition satisfying "
     ]
    },
    {
     "cell_type": "code",
     "collapsed": false,
     "input": [
      "import numpy as np\n",
      "\n",
      "a = np.array([0,1, 77, 3, 4, 5])\n",
      "\n",
      "np.where(a > 4)"
     ],
     "language": "python",
     "metadata": {},
     "outputs": [
      {
       "metadata": {},
       "output_type": "pyout",
       "prompt_number": 4,
       "text": [
        "(array([2, 5]),)"
       ]
      }
     ],
     "prompt_number": 4
    },
    {
     "cell_type": "code",
     "collapsed": false,
     "input": [
      "b = a.reshape((3,2))\n",
      "np.where(b > 4)"
     ],
     "language": "python",
     "metadata": {},
     "outputs": [
      {
       "metadata": {},
       "output_type": "pyout",
       "prompt_number": 5,
       "text": [
        "(array([1, 2]), array([0, 1]))"
       ]
      }
     ],
     "prompt_number": 5
    },
    {
     "cell_type": "markdown",
     "metadata": {},
     "source": [
      "## mode"
     ]
    },
    {
     "cell_type": "markdown",
     "metadata": {},
     "source": [
      "For mode function, if there is more than mode value, only the first is returned."
     ]
    },
    {
     "cell_type": "code",
     "collapsed": false,
     "input": [
      "from scipy.stats import mode\n",
      "a = np.array([0,1, 77, 3, 4, 5, 3, 4])\n",
      "mode(a)"
     ],
     "language": "python",
     "metadata": {},
     "outputs": [
      {
       "metadata": {},
       "output_type": "pyout",
       "prompt_number": 6,
       "text": [
        "ModeResult(mode=array([3]), count=array([2]))"
       ]
      }
     ],
     "prompt_number": 6
    },
    {
     "cell_type": "markdown",
     "metadata": {},
     "source": [
      "## Read csv file with specific columns"
     ]
    },
    {
     "cell_type": "code",
     "collapsed": false,
     "input": [
      "!cat '../data/ch3/ex1.csv'\n",
      "\n",
      "import pandas as pd\n",
      "data = pd.read_csv('../data/ch3/ex1.csv', usecols = ['a', 'b', 'c'])\n",
      "data"
     ],
     "language": "python",
     "metadata": {},
     "outputs": [
      {
       "output_type": "stream",
       "stream": "stdout",
       "text": [
        "a,b,c,d,message\r\n",
        "1,2,3,4,hello\r\n",
        "5,6,7,8,world\r\n",
        "9,10,11,12,foo"
       ]
      },
      {
       "html": [
        "<div style=\"max-width:1500px;overflow:auto;\">\n",
        "<table border=\"1\" class=\"dataframe\">\n",
        "  <thead>\n",
        "    <tr style=\"text-align: right;\">\n",
        "      <th></th>\n",
        "      <th>a</th>\n",
        "      <th>b</th>\n",
        "      <th>c</th>\n",
        "    </tr>\n",
        "  </thead>\n",
        "  <tbody>\n",
        "    <tr>\n",
        "      <th>0</th>\n",
        "      <td>1</td>\n",
        "      <td>2</td>\n",
        "      <td>3</td>\n",
        "    </tr>\n",
        "    <tr>\n",
        "      <th>1</th>\n",
        "      <td>5</td>\n",
        "      <td>6</td>\n",
        "      <td>7</td>\n",
        "    </tr>\n",
        "    <tr>\n",
        "      <th>2</th>\n",
        "      <td>9</td>\n",
        "      <td>10</td>\n",
        "      <td>11</td>\n",
        "    </tr>\n",
        "  </tbody>\n",
        "</table>\n",
        "</div>"
       ],
       "metadata": {},
       "output_type": "pyout",
       "prompt_number": 9,
       "text": [
        "   a   b   c\n",
        "0  1   2   3\n",
        "1  5   6   7\n",
        "2  9  10  11"
       ]
      }
     ],
     "prompt_number": 9
    },
    {
     "cell_type": "markdown",
     "metadata": {},
     "source": [
      "## chunksize in read_csv means the number of rows"
     ]
    }
   ],
   "metadata": {}
  }
 ]
}