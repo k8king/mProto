{
 "metadata": {
  "name": "",
  "signature": "sha256:4026fde38e7c26e2421ee1d32eb13add863ae14e68860a69e172df7e52f1a6a8"
 },
 "nbformat": 3,
 "nbformat_minor": 0,
 "worksheets": [
  {
   "cells": [
    {
     "cell_type": "markdown",
     "metadata": {},
     "source": [
      "## JSON"
     ]
    },
    {
     "cell_type": "code",
     "collapsed": false,
     "input": [
      "import numpy as np\n",
      "import pandas as pd\n",
      "import os\n",
      "import sys\n",
      "import matplotlib\n",
      "%matplotlib inline\n",
      "import simplejson as json\n",
      "\n",
      "from pandas import Series, DataFrame"
     ],
     "language": "python",
     "metadata": {},
     "outputs": [],
     "prompt_number": 15
    },
    {
     "cell_type": "code",
     "collapsed": false,
     "input": [
      "f = open('../data/ch3/foods.json', 'rb')\n",
      "json_data = json.load(f)\n",
      "info_keys = ['description', 'group', 'id', 'manufacture']\n",
      "data = DataFrame(json_data, columns = info_keys)\n",
      "print data.head(20)"
     ],
     "language": "python",
     "metadata": {},
     "outputs": [
      {
       "output_type": "stream",
       "stream": "stdout",
       "text": [
        "                                          description                   group  \\\n",
        "0                                     Cheese, caraway  Dairy and Egg Products   \n",
        "1                                     Cheese, cheddar  Dairy and Egg Products   \n",
        "2                                        Cheese, edam  Dairy and Egg Products   \n",
        "3                                        Cheese, feta  Dairy and Egg Products   \n",
        "4                  Cheese, mozzarella, part skim milk  Dairy and Egg Products   \n",
        "5    Cheese, mozzarella, part skim milk, low moisture  Dairy and Egg Products   \n",
        "6                                      Cheese, romano  Dairy and Egg Products   \n",
        "7                                   Cheese, roquefort  Dairy and Egg Products   \n",
        "8   Cheese spread, pasteurized process, american, ...  Dairy and Egg Products   \n",
        "9                         Cream, fluid, half and half  Dairy and Egg Products   \n",
        "10  Sour dressing, non-butterfat, cultured, filled...  Dairy and Egg Products   \n",
        "11  Milk, filled, fluid, with blend of hydrogenate...  Dairy and Egg Products   \n",
        "12  Cream substitute, liquid, with lauric acid oil...  Dairy and Egg Products   \n",
        "13                         Cream substitute, powdered  Dairy and Egg Products   \n",
        "14                Milk, producer, fluid, 3.7% milkfat  Dairy and Egg Products   \n",
        "15  Milk, reduced fat, fluid, 2% milkfat, with add...  Dairy and Egg Products   \n",
        "16  Milk, reduced fat, fluid, 2% milkfat, with add...  Dairy and Egg Products   \n",
        "17  Milk, reduced fat, fluid, 2% milkfat, protein ...  Dairy and Egg Products   \n",
        "18  Milk, lowfat, fluid, 1% milkfat, with added vi...  Dairy and Egg Products   \n",
        "19  Milk, lowfat, fluid, 1% milkfat, with added no...  Dairy and Egg Products   \n",
        "\n",
        "      id  manufacture  \n",
        "0   1008          NaN  \n",
        "1   1009          NaN  \n",
        "2   1018          NaN  \n",
        "3   1019          NaN  \n",
        "4   1028          NaN  \n",
        "5   1029          NaN  \n",
        "6   1038          NaN  \n",
        "7   1039          NaN  \n",
        "8   1048          NaN  \n",
        "9   1049          NaN  \n",
        "10  1058          NaN  \n",
        "11  1059          NaN  \n",
        "12  1068          NaN  \n",
        "13  1069          NaN  \n",
        "14  1078          NaN  \n",
        "15  1079          NaN  \n",
        "16  1080          NaN  \n",
        "17  1081          NaN  \n",
        "18  1082          NaN  \n",
        "19  1083          NaN  \n"
       ]
      }
     ],
     "prompt_number": 16
    },
    {
     "cell_type": "code",
     "collapsed": false,
     "input": [
      "data[0:50].to_json('../ch3_out.json', orient = 'records', lines = True)"
     ],
     "language": "python",
     "metadata": {},
     "outputs": [],
     "prompt_number": 18
    },
    {
     "cell_type": "markdown",
     "metadata": {},
     "source": [
      "## MySQL"
     ]
    },
    {
     "cell_type": "code",
     "collapsed": false,
     "input": [
      "import MySQLdb\n",
      "import pandas.io.sql as sql\n",
      "\n",
      "# conn = MySQLdb.conect(host =, user = , passwd =, db =, port =, charset='utf8')\n",
      "# data = sql.read_frame('select * from xxx', conn)"
     ],
     "language": "python",
     "metadata": {},
     "outputs": [],
     "prompt_number": 20
    }
   ],
   "metadata": {}
  }
 ]
}